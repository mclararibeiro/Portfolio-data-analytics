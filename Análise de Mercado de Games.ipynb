{
 "cells": [
  {
   "cell_type": "markdown",
   "id": "2a105d24",
   "metadata": {},
   "source": [
    "# Análise de Mercado de Games\n",
    "\n",
    "Análise dos dados de vendas e classificação de jogos \n",
    "\n",
    "Dados = https://www.kaggle.com/sidtwr/videogames-sales-dataset?datasetId=189386&sortBy=voteCount"
   ]
  },
  {
   "cell_type": "code",
   "execution_count": 99,
   "id": "949806fc",
   "metadata": {},
   "outputs": [],
   "source": [
    "import numpy as np\n",
    "import pandas as pd\n",
    "\n",
    "import matplotlib.pyplot as plt\n",
    "import seaborn as sns\n",
    "\n",
    "import warnings\n",
    "\n",
    "warnings.filterwarnings('ignore')"
   ]
  },
  {
   "cell_type": "markdown",
   "id": "c6c16afa",
   "metadata": {},
   "source": [
    "**Análises Iniciais**"
   ]
  },
  {
   "cell_type": "code",
   "execution_count": 100,
   "id": "8f003eb6",
   "metadata": {},
   "outputs": [],
   "source": [
    "dados = pd.read_csv('PS4_GamesSales.csv', encoding ='latin-1')"
   ]
  },
  {
   "cell_type": "code",
   "execution_count": 101,
   "id": "5a991468",
   "metadata": {},
   "outputs": [
    {
     "data": {
      "text/html": [
       "<div>\n",
       "<style scoped>\n",
       "    .dataframe tbody tr th:only-of-type {\n",
       "        vertical-align: middle;\n",
       "    }\n",
       "\n",
       "    .dataframe tbody tr th {\n",
       "        vertical-align: top;\n",
       "    }\n",
       "\n",
       "    .dataframe thead th {\n",
       "        text-align: right;\n",
       "    }\n",
       "</style>\n",
       "<table border=\"1\" class=\"dataframe\">\n",
       "  <thead>\n",
       "    <tr style=\"text-align: right;\">\n",
       "      <th></th>\n",
       "      <th>Game</th>\n",
       "      <th>Year</th>\n",
       "      <th>Genre</th>\n",
       "      <th>Publisher</th>\n",
       "      <th>North America</th>\n",
       "      <th>Europe</th>\n",
       "      <th>Japan</th>\n",
       "      <th>Rest of World</th>\n",
       "      <th>Global</th>\n",
       "    </tr>\n",
       "  </thead>\n",
       "  <tbody>\n",
       "    <tr>\n",
       "      <th>0</th>\n",
       "      <td>Grand Theft Auto V</td>\n",
       "      <td>2014.0</td>\n",
       "      <td>Action</td>\n",
       "      <td>Rockstar Games</td>\n",
       "      <td>6.06</td>\n",
       "      <td>9.71</td>\n",
       "      <td>0.60</td>\n",
       "      <td>3.02</td>\n",
       "      <td>19.39</td>\n",
       "    </tr>\n",
       "    <tr>\n",
       "      <th>1</th>\n",
       "      <td>Call of Duty: Black Ops 3</td>\n",
       "      <td>2015.0</td>\n",
       "      <td>Shooter</td>\n",
       "      <td>Activision</td>\n",
       "      <td>6.18</td>\n",
       "      <td>6.05</td>\n",
       "      <td>0.41</td>\n",
       "      <td>2.44</td>\n",
       "      <td>15.09</td>\n",
       "    </tr>\n",
       "    <tr>\n",
       "      <th>2</th>\n",
       "      <td>Red Dead Redemption 2</td>\n",
       "      <td>2018.0</td>\n",
       "      <td>Action-Adventure</td>\n",
       "      <td>Rockstar Games</td>\n",
       "      <td>5.26</td>\n",
       "      <td>6.21</td>\n",
       "      <td>0.21</td>\n",
       "      <td>2.26</td>\n",
       "      <td>13.94</td>\n",
       "    </tr>\n",
       "    <tr>\n",
       "      <th>3</th>\n",
       "      <td>Call of Duty: WWII</td>\n",
       "      <td>2017.0</td>\n",
       "      <td>Shooter</td>\n",
       "      <td>Activision</td>\n",
       "      <td>4.67</td>\n",
       "      <td>6.21</td>\n",
       "      <td>0.40</td>\n",
       "      <td>2.12</td>\n",
       "      <td>13.40</td>\n",
       "    </tr>\n",
       "    <tr>\n",
       "      <th>4</th>\n",
       "      <td>FIFA 18</td>\n",
       "      <td>2017.0</td>\n",
       "      <td>Sports</td>\n",
       "      <td>EA Sports</td>\n",
       "      <td>1.27</td>\n",
       "      <td>8.64</td>\n",
       "      <td>0.15</td>\n",
       "      <td>1.73</td>\n",
       "      <td>11.80</td>\n",
       "    </tr>\n",
       "    <tr>\n",
       "      <th>5</th>\n",
       "      <td>FIFA 17</td>\n",
       "      <td>2016.0</td>\n",
       "      <td>Sports</td>\n",
       "      <td>Electronic Arts</td>\n",
       "      <td>1.26</td>\n",
       "      <td>7.95</td>\n",
       "      <td>0.12</td>\n",
       "      <td>1.61</td>\n",
       "      <td>10.94</td>\n",
       "    </tr>\n",
       "    <tr>\n",
       "      <th>6</th>\n",
       "      <td>Uncharted (PS4)</td>\n",
       "      <td>2016.0</td>\n",
       "      <td>Action</td>\n",
       "      <td>Sony Interactive Entertainment</td>\n",
       "      <td>4.49</td>\n",
       "      <td>3.93</td>\n",
       "      <td>0.21</td>\n",
       "      <td>1.70</td>\n",
       "      <td>10.33</td>\n",
       "    </tr>\n",
       "    <tr>\n",
       "      <th>7</th>\n",
       "      <td>Spider-Man (PS4)</td>\n",
       "      <td>2018.0</td>\n",
       "      <td>Action-Adventure</td>\n",
       "      <td>Sony Interactive Entertainment</td>\n",
       "      <td>3.64</td>\n",
       "      <td>3.39</td>\n",
       "      <td>0.32</td>\n",
       "      <td>1.41</td>\n",
       "      <td>8.76</td>\n",
       "    </tr>\n",
       "    <tr>\n",
       "      <th>8</th>\n",
       "      <td>Call of Duty: Infinite Warfare</td>\n",
       "      <td>2016.0</td>\n",
       "      <td>Shooter</td>\n",
       "      <td>Activision</td>\n",
       "      <td>3.11</td>\n",
       "      <td>3.83</td>\n",
       "      <td>0.19</td>\n",
       "      <td>1.36</td>\n",
       "      <td>8.48</td>\n",
       "    </tr>\n",
       "    <tr>\n",
       "      <th>9</th>\n",
       "      <td>Fallout 4</td>\n",
       "      <td>2015.0</td>\n",
       "      <td>Role-Playing</td>\n",
       "      <td>Bethesda Softworks</td>\n",
       "      <td>2.91</td>\n",
       "      <td>3.97</td>\n",
       "      <td>0.27</td>\n",
       "      <td>1.34</td>\n",
       "      <td>8.48</td>\n",
       "    </tr>\n",
       "  </tbody>\n",
       "</table>\n",
       "</div>"
      ],
      "text/plain": [
       "                             Game    Year             Genre  \\\n",
       "0              Grand Theft Auto V  2014.0            Action   \n",
       "1       Call of Duty: Black Ops 3  2015.0           Shooter   \n",
       "2           Red Dead Redemption 2  2018.0  Action-Adventure   \n",
       "3              Call of Duty: WWII  2017.0           Shooter   \n",
       "4                         FIFA 18  2017.0            Sports   \n",
       "5                         FIFA 17  2016.0            Sports   \n",
       "6                 Uncharted (PS4)  2016.0            Action   \n",
       "7                Spider-Man (PS4)  2018.0  Action-Adventure   \n",
       "8  Call of Duty: Infinite Warfare  2016.0           Shooter   \n",
       "9                       Fallout 4  2015.0      Role-Playing   \n",
       "\n",
       "                        Publisher  North America  Europe  Japan  \\\n",
       "0                  Rockstar Games           6.06    9.71   0.60   \n",
       "1                      Activision           6.18    6.05   0.41   \n",
       "2                  Rockstar Games           5.26    6.21   0.21   \n",
       "3                      Activision           4.67    6.21   0.40   \n",
       "4                       EA Sports           1.27    8.64   0.15   \n",
       "5                 Electronic Arts           1.26    7.95   0.12   \n",
       "6  Sony Interactive Entertainment           4.49    3.93   0.21   \n",
       "7  Sony Interactive Entertainment           3.64    3.39   0.32   \n",
       "8                      Activision           3.11    3.83   0.19   \n",
       "9              Bethesda Softworks           2.91    3.97   0.27   \n",
       "\n",
       "   Rest of World  Global  \n",
       "0           3.02   19.39  \n",
       "1           2.44   15.09  \n",
       "2           2.26   13.94  \n",
       "3           2.12   13.40  \n",
       "4           1.73   11.80  \n",
       "5           1.61   10.94  \n",
       "6           1.70   10.33  \n",
       "7           1.41    8.76  \n",
       "8           1.36    8.48  \n",
       "9           1.34    8.48  "
      ]
     },
     "execution_count": 101,
     "metadata": {},
     "output_type": "execute_result"
    }
   ],
   "source": [
    "dados.head(10)"
   ]
  },
  {
   "cell_type": "code",
   "execution_count": 102,
   "id": "2c473f9e",
   "metadata": {},
   "outputs": [
    {
     "data": {
      "text/plain": [
       "0"
      ]
     },
     "execution_count": 102,
     "metadata": {},
     "output_type": "execute_result"
    }
   ],
   "source": [
    "dados.duplicated().sum()"
   ]
  },
  {
   "cell_type": "code",
   "execution_count": 103,
   "id": "a6d788ea",
   "metadata": {},
   "outputs": [
    {
     "data": {
      "text/plain": [
       "Game               0\n",
       "Year             209\n",
       "Genre              0\n",
       "Publisher        209\n",
       "North America      0\n",
       "Europe             0\n",
       "Japan              0\n",
       "Rest of World      0\n",
       "Global             0\n",
       "dtype: int64"
      ]
     },
     "execution_count": 103,
     "metadata": {},
     "output_type": "execute_result"
    }
   ],
   "source": [
    "dados.isna().sum()"
   ]
  },
  {
   "cell_type": "code",
   "execution_count": 104,
   "id": "6aec7f5a",
   "metadata": {},
   "outputs": [],
   "source": [
    "dados.dropna(inplace=True)"
   ]
  },
  {
   "cell_type": "code",
   "execution_count": 105,
   "id": "e9eb8efc",
   "metadata": {},
   "outputs": [
    {
     "name": "stdout",
     "output_type": "stream",
     "text": [
      "<class 'pandas.core.frame.DataFrame'>\n",
      "Int64Index: 825 entries, 0 to 1030\n",
      "Data columns (total 9 columns):\n",
      " #   Column         Non-Null Count  Dtype  \n",
      "---  ------         --------------  -----  \n",
      " 0   Game           825 non-null    object \n",
      " 1   Year           825 non-null    float64\n",
      " 2   Genre          825 non-null    object \n",
      " 3   Publisher      825 non-null    object \n",
      " 4   North America  825 non-null    float64\n",
      " 5   Europe         825 non-null    float64\n",
      " 6   Japan          825 non-null    float64\n",
      " 7   Rest of World  825 non-null    float64\n",
      " 8   Global         825 non-null    float64\n",
      "dtypes: float64(6), object(3)\n",
      "memory usage: 64.5+ KB\n"
     ]
    }
   ],
   "source": [
    "dados.info()"
   ]
  },
  {
   "cell_type": "code",
   "execution_count": 106,
   "id": "4ee722f3",
   "metadata": {},
   "outputs": [
    {
     "data": {
      "text/plain": [
       "Game             0\n",
       "Year             0\n",
       "Genre            0\n",
       "Publisher        0\n",
       "North America    0\n",
       "Europe           0\n",
       "Japan            0\n",
       "Rest of World    0\n",
       "Global           0\n",
       "dtype: int64"
      ]
     },
     "execution_count": 106,
     "metadata": {},
     "output_type": "execute_result"
    }
   ],
   "source": [
    "dados.isna().sum()"
   ]
  },
  {
   "cell_type": "code",
   "execution_count": 107,
   "id": "b7d20479",
   "metadata": {},
   "outputs": [
    {
     "data": {
      "text/html": [
       "<div>\n",
       "<style scoped>\n",
       "    .dataframe tbody tr th:only-of-type {\n",
       "        vertical-align: middle;\n",
       "    }\n",
       "\n",
       "    .dataframe tbody tr th {\n",
       "        vertical-align: top;\n",
       "    }\n",
       "\n",
       "    .dataframe thead th {\n",
       "        text-align: right;\n",
       "    }\n",
       "</style>\n",
       "<table border=\"1\" class=\"dataframe\">\n",
       "  <thead>\n",
       "    <tr style=\"text-align: right;\">\n",
       "      <th></th>\n",
       "      <th>Year</th>\n",
       "      <th>North America</th>\n",
       "      <th>Europe</th>\n",
       "      <th>Japan</th>\n",
       "      <th>Rest of World</th>\n",
       "      <th>Global</th>\n",
       "    </tr>\n",
       "  </thead>\n",
       "  <tbody>\n",
       "    <tr>\n",
       "      <th>count</th>\n",
       "      <td>825.000000</td>\n",
       "      <td>825.000000</td>\n",
       "      <td>825.000000</td>\n",
       "      <td>825.000000</td>\n",
       "      <td>825.000000</td>\n",
       "      <td>825.000000</td>\n",
       "    </tr>\n",
       "    <tr>\n",
       "      <th>mean</th>\n",
       "      <td>2015.966061</td>\n",
       "      <td>0.256448</td>\n",
       "      <td>0.311600</td>\n",
       "      <td>0.042048</td>\n",
       "      <td>0.111552</td>\n",
       "      <td>0.721721</td>\n",
       "    </tr>\n",
       "    <tr>\n",
       "      <th>std</th>\n",
       "      <td>1.298360</td>\n",
       "      <td>0.620259</td>\n",
       "      <td>0.868271</td>\n",
       "      <td>0.119814</td>\n",
       "      <td>0.274713</td>\n",
       "      <td>1.743122</td>\n",
       "    </tr>\n",
       "    <tr>\n",
       "      <th>min</th>\n",
       "      <td>2013.000000</td>\n",
       "      <td>0.000000</td>\n",
       "      <td>0.000000</td>\n",
       "      <td>0.000000</td>\n",
       "      <td>0.000000</td>\n",
       "      <td>0.000000</td>\n",
       "    </tr>\n",
       "    <tr>\n",
       "      <th>25%</th>\n",
       "      <td>2015.000000</td>\n",
       "      <td>0.000000</td>\n",
       "      <td>0.000000</td>\n",
       "      <td>0.000000</td>\n",
       "      <td>0.000000</td>\n",
       "      <td>0.030000</td>\n",
       "    </tr>\n",
       "    <tr>\n",
       "      <th>50%</th>\n",
       "      <td>2016.000000</td>\n",
       "      <td>0.050000</td>\n",
       "      <td>0.020000</td>\n",
       "      <td>0.000000</td>\n",
       "      <td>0.020000</td>\n",
       "      <td>0.120000</td>\n",
       "    </tr>\n",
       "    <tr>\n",
       "      <th>75%</th>\n",
       "      <td>2017.000000</td>\n",
       "      <td>0.190000</td>\n",
       "      <td>0.220000</td>\n",
       "      <td>0.040000</td>\n",
       "      <td>0.090000</td>\n",
       "      <td>0.560000</td>\n",
       "    </tr>\n",
       "    <tr>\n",
       "      <th>max</th>\n",
       "      <td>2020.000000</td>\n",
       "      <td>6.180000</td>\n",
       "      <td>9.710000</td>\n",
       "      <td>2.170000</td>\n",
       "      <td>3.020000</td>\n",
       "      <td>19.390000</td>\n",
       "    </tr>\n",
       "  </tbody>\n",
       "</table>\n",
       "</div>"
      ],
      "text/plain": [
       "              Year  North America      Europe       Japan  Rest of World  \\\n",
       "count   825.000000     825.000000  825.000000  825.000000     825.000000   \n",
       "mean   2015.966061       0.256448    0.311600    0.042048       0.111552   \n",
       "std       1.298360       0.620259    0.868271    0.119814       0.274713   \n",
       "min    2013.000000       0.000000    0.000000    0.000000       0.000000   \n",
       "25%    2015.000000       0.000000    0.000000    0.000000       0.000000   \n",
       "50%    2016.000000       0.050000    0.020000    0.000000       0.020000   \n",
       "75%    2017.000000       0.190000    0.220000    0.040000       0.090000   \n",
       "max    2020.000000       6.180000    9.710000    2.170000       3.020000   \n",
       "\n",
       "           Global  \n",
       "count  825.000000  \n",
       "mean     0.721721  \n",
       "std      1.743122  \n",
       "min      0.000000  \n",
       "25%      0.030000  \n",
       "50%      0.120000  \n",
       "75%      0.560000  \n",
       "max     19.390000  "
      ]
     },
     "execution_count": 107,
     "metadata": {},
     "output_type": "execute_result"
    }
   ],
   "source": [
    "dados.describe()"
   ]
  },
  {
   "cell_type": "code",
   "execution_count": 108,
   "id": "f1e9a881",
   "metadata": {},
   "outputs": [
    {
     "data": {
      "text/plain": [
       "array(['Action', 'Shooter', 'Action-Adventure', 'Sports', 'Role-Playing',\n",
       "       'Misc', 'Platform', 'Racing', 'Fighting', 'Adventure', 'MMO',\n",
       "       'Simulation', 'Music', 'Party', 'Strategy', 'Puzzle',\n",
       "       'Visual Novel'], dtype=object)"
      ]
     },
     "execution_count": 108,
     "metadata": {},
     "output_type": "execute_result"
    }
   ],
   "source": [
    "dados['Genre'].unique()"
   ]
  },
  {
   "cell_type": "markdown",
   "id": "3c603e69",
   "metadata": {},
   "source": [
    "**Analise da Quantidade de Jogos por gênero**"
   ]
  },
  {
   "cell_type": "code",
   "execution_count": 109,
   "id": "0a2abba7",
   "metadata": {},
   "outputs": [],
   "source": [
    "#Quantidade de jogos por gênero\n",
    "dados_genre = dados['Genre'].value_counts()"
   ]
  },
  {
   "cell_type": "code",
   "execution_count": 110,
   "id": "03bc1794",
   "metadata": {},
   "outputs": [
    {
     "data": {
      "text/plain": [
       "Action              205\n",
       "Role-Playing        107\n",
       "Shooter              75\n",
       "Adventure            71\n",
       "Sports               69\n",
       "Misc                 55\n",
       "Racing               48\n",
       "Action-Adventure     38\n",
       "Platform             33\n",
       "Fighting             32\n",
       "Strategy             25\n",
       "Simulation           21\n",
       "Music                18\n",
       "Puzzle               10\n",
       "MMO                   8\n",
       "Visual Novel          8\n",
       "Party                 2\n",
       "Name: Genre, dtype: int64"
      ]
     },
     "execution_count": 110,
     "metadata": {},
     "output_type": "execute_result"
    }
   ],
   "source": [
    "dados_genre"
   ]
  },
  {
   "cell_type": "code",
   "execution_count": 125,
   "id": "83e56063",
   "metadata": {},
   "outputs": [
    {
     "data": {
      "image/png": "[encoded data removed]",
      "text/plain": [
       "<Figure size 720x432 with 1 Axes>"
      ]
     },
     "metadata": {
      "needs_background": "light"
     },
     "output_type": "display_data"
    }
   ],
   "source": [
    "plt.figure(figsize =(10,6))\n",
    "plt.title(\"Quantidade de jogos por Gênero\")\n",
    "plt.bar(dados_genre.index,dados_genre, color = '#a1d99b');\n",
    "plt.xticks(rotation = 45, ha ='right'); #formata os nomes dos setores\n"
   ]
  },
  {
   "cell_type": "markdown",
   "id": "deb6cf26",
   "metadata": {},
   "source": [
    "Dos gêneros de jogos apresentados no banco de dados, o 'Action' se apresenta com maior quantidade de jogos produzidos para PS4\n",
    "\n"
   ]
  },
  {
   "cell_type": "markdown",
   "id": "5b3544ed",
   "metadata": {},
   "source": [
    "**Análise das Vendas por Ano**\n"
   ]
  },
  {
   "cell_type": "code",
   "execution_count": 112,
   "id": "95e38a51",
   "metadata": {},
   "outputs": [
    {
     "data": {
      "image/png": "[encoded data removed]",
      "text/plain": [
       "<Figure size 720x360 with 1 Axes>"
      ]
     },
     "metadata": {
      "needs_background": "light"
     },
     "output_type": "display_data"
    }
   ],
   "source": [
    "plt.figure( figsize=(10, 5) )\n",
    "plt.title('Quantidade de Vendas Globais (mi) por Ano', loc='left', fontsize=14 )\n",
    "sns.barplot( data=dados, x='Year', y='Global', ci=None, color='#c994c7', estimator=sum )\n",
    "plt.ylabel('Quantidade Vendas (mi)');\n",
    "plt.xlabel('Ano');"
   ]
  },
  {
   "cell_type": "code",
   "execution_count": 113,
   "id": "a8b7f401",
   "metadata": {},
   "outputs": [
    {
     "data": {
      "text/html": [
       "<div>\n",
       "<style scoped>\n",
       "    .dataframe tbody tr th:only-of-type {\n",
       "        vertical-align: middle;\n",
       "    }\n",
       "\n",
       "    .dataframe tbody tr th {\n",
       "        vertical-align: top;\n",
       "    }\n",
       "\n",
       "    .dataframe thead th {\n",
       "        text-align: right;\n",
       "    }\n",
       "</style>\n",
       "<table border=\"1\" class=\"dataframe\">\n",
       "  <thead>\n",
       "    <tr style=\"text-align: right;\">\n",
       "      <th></th>\n",
       "      <th>Year</th>\n",
       "      <th>Global</th>\n",
       "    </tr>\n",
       "  </thead>\n",
       "  <tbody>\n",
       "    <tr>\n",
       "      <th>0</th>\n",
       "      <td>2013.0</td>\n",
       "      <td>28.76</td>\n",
       "    </tr>\n",
       "    <tr>\n",
       "      <th>1</th>\n",
       "      <td>2014.0</td>\n",
       "      <td>115.85</td>\n",
       "    </tr>\n",
       "    <tr>\n",
       "      <th>2</th>\n",
       "      <td>2015.0</td>\n",
       "      <td>133.99</td>\n",
       "    </tr>\n",
       "    <tr>\n",
       "      <th>3</th>\n",
       "      <td>2016.0</td>\n",
       "      <td>135.72</td>\n",
       "    </tr>\n",
       "    <tr>\n",
       "      <th>4</th>\n",
       "      <td>2017.0</td>\n",
       "      <td>130.90</td>\n",
       "    </tr>\n",
       "    <tr>\n",
       "      <th>5</th>\n",
       "      <td>2018.0</td>\n",
       "      <td>50.20</td>\n",
       "    </tr>\n",
       "    <tr>\n",
       "      <th>6</th>\n",
       "      <td>2019.0</td>\n",
       "      <td>0.00</td>\n",
       "    </tr>\n",
       "    <tr>\n",
       "      <th>7</th>\n",
       "      <td>2020.0</td>\n",
       "      <td>0.00</td>\n",
       "    </tr>\n",
       "  </tbody>\n",
       "</table>\n",
       "</div>"
      ],
      "text/plain": [
       "     Year  Global\n",
       "0  2013.0   28.76\n",
       "1  2014.0  115.85\n",
       "2  2015.0  133.99\n",
       "3  2016.0  135.72\n",
       "4  2017.0  130.90\n",
       "5  2018.0   50.20\n",
       "6  2019.0    0.00\n",
       "7  2020.0    0.00"
      ]
     },
     "execution_count": 113,
     "metadata": {},
     "output_type": "execute_result"
    }
   ],
   "source": [
    "dados_vendas = dados.groupby(['Year']).sum()['Global'].reset_index()\n",
    "dados_vendas"
   ]
  },
  {
   "cell_type": "markdown",
   "id": "1f984f45",
   "metadata": {},
   "source": [
    "O melhor ano em vendas no setor de Games para PS4 foi o de 2016, com cerca de 135 milhões de Dólares acumulados, seguido pelo ano de 2015. Onde a partir desse ano começa a sofrer uma queda brusca nos anos seguintes. Que pode ser melhor visualizado neste gráfico de linhas a seguir:"
   ]
  },
  {
   "cell_type": "code",
   "execution_count": 114,
   "id": "86c41fa0",
   "metadata": {},
   "outputs": [
    {
     "data": {
      "image/png": "[encoded data removed]",
      "text/plain": [
       "<Figure size 360x360 with 1 Axes>"
      ]
     },
     "metadata": {
      "needs_background": "light"
     },
     "output_type": "display_data"
    }
   ],
   "source": [
    "sns.relplot(x = \"Year\", y= 'Global', data = dados_vendas, kind='line');"
   ]
  },
  {
   "cell_type": "code",
   "execution_count": 115,
   "id": "ecb42116",
   "metadata": {},
   "outputs": [
    {
     "data": {
      "text/html": [
       "<div>\n",
       "<style scoped>\n",
       "    .dataframe tbody tr th:only-of-type {\n",
       "        vertical-align: middle;\n",
       "    }\n",
       "\n",
       "    .dataframe tbody tr th {\n",
       "        vertical-align: top;\n",
       "    }\n",
       "\n",
       "    .dataframe thead th {\n",
       "        text-align: right;\n",
       "    }\n",
       "</style>\n",
       "<table border=\"1\" class=\"dataframe\">\n",
       "  <thead>\n",
       "    <tr style=\"text-align: right;\">\n",
       "      <th></th>\n",
       "      <th>Game</th>\n",
       "      <th>Year</th>\n",
       "      <th>Genre</th>\n",
       "      <th>Publisher</th>\n",
       "      <th>North America</th>\n",
       "      <th>Europe</th>\n",
       "      <th>Japan</th>\n",
       "      <th>Rest of World</th>\n",
       "      <th>Global</th>\n",
       "    </tr>\n",
       "  </thead>\n",
       "  <tbody>\n",
       "    <tr>\n",
       "      <th>0</th>\n",
       "      <td>Grand Theft Auto V</td>\n",
       "      <td>2014.0</td>\n",
       "      <td>Action</td>\n",
       "      <td>Rockstar Games</td>\n",
       "      <td>6.06</td>\n",
       "      <td>9.71</td>\n",
       "      <td>0.60</td>\n",
       "      <td>3.02</td>\n",
       "      <td>19.39</td>\n",
       "    </tr>\n",
       "    <tr>\n",
       "      <th>1</th>\n",
       "      <td>Call of Duty: Black Ops 3</td>\n",
       "      <td>2015.0</td>\n",
       "      <td>Shooter</td>\n",
       "      <td>Activision</td>\n",
       "      <td>6.18</td>\n",
       "      <td>6.05</td>\n",
       "      <td>0.41</td>\n",
       "      <td>2.44</td>\n",
       "      <td>15.09</td>\n",
       "    </tr>\n",
       "    <tr>\n",
       "      <th>2</th>\n",
       "      <td>Red Dead Redemption 2</td>\n",
       "      <td>2018.0</td>\n",
       "      <td>Action-Adventure</td>\n",
       "      <td>Rockstar Games</td>\n",
       "      <td>5.26</td>\n",
       "      <td>6.21</td>\n",
       "      <td>0.21</td>\n",
       "      <td>2.26</td>\n",
       "      <td>13.94</td>\n",
       "    </tr>\n",
       "    <tr>\n",
       "      <th>3</th>\n",
       "      <td>Call of Duty: WWII</td>\n",
       "      <td>2017.0</td>\n",
       "      <td>Shooter</td>\n",
       "      <td>Activision</td>\n",
       "      <td>4.67</td>\n",
       "      <td>6.21</td>\n",
       "      <td>0.40</td>\n",
       "      <td>2.12</td>\n",
       "      <td>13.40</td>\n",
       "    </tr>\n",
       "    <tr>\n",
       "      <th>4</th>\n",
       "      <td>FIFA 18</td>\n",
       "      <td>2017.0</td>\n",
       "      <td>Sports</td>\n",
       "      <td>EA Sports</td>\n",
       "      <td>1.27</td>\n",
       "      <td>8.64</td>\n",
       "      <td>0.15</td>\n",
       "      <td>1.73</td>\n",
       "      <td>11.80</td>\n",
       "    </tr>\n",
       "    <tr>\n",
       "      <th>...</th>\n",
       "      <td>...</td>\n",
       "      <td>...</td>\n",
       "      <td>...</td>\n",
       "      <td>...</td>\n",
       "      <td>...</td>\n",
       "      <td>...</td>\n",
       "      <td>...</td>\n",
       "      <td>...</td>\n",
       "      <td>...</td>\n",
       "    </tr>\n",
       "    <tr>\n",
       "      <th>1024</th>\n",
       "      <td>Biomutant</td>\n",
       "      <td>2018.0</td>\n",
       "      <td>Action</td>\n",
       "      <td>THQ Nordic</td>\n",
       "      <td>0.00</td>\n",
       "      <td>0.00</td>\n",
       "      <td>0.00</td>\n",
       "      <td>0.00</td>\n",
       "      <td>0.00</td>\n",
       "    </tr>\n",
       "    <tr>\n",
       "      <th>1026</th>\n",
       "      <td>de Blob</td>\n",
       "      <td>2017.0</td>\n",
       "      <td>Platform</td>\n",
       "      <td>THQ Nordic</td>\n",
       "      <td>0.00</td>\n",
       "      <td>0.00</td>\n",
       "      <td>0.00</td>\n",
       "      <td>0.00</td>\n",
       "      <td>0.00</td>\n",
       "    </tr>\n",
       "    <tr>\n",
       "      <th>1027</th>\n",
       "      <td>Chaos on Deponia</td>\n",
       "      <td>2017.0</td>\n",
       "      <td>Adventure</td>\n",
       "      <td>Daedalic Entertainment</td>\n",
       "      <td>0.00</td>\n",
       "      <td>0.00</td>\n",
       "      <td>0.00</td>\n",
       "      <td>0.00</td>\n",
       "      <td>0.00</td>\n",
       "    </tr>\n",
       "    <tr>\n",
       "      <th>1028</th>\n",
       "      <td>Code Vein</td>\n",
       "      <td>2018.0</td>\n",
       "      <td>Action</td>\n",
       "      <td>Bandai Namco Entertainment</td>\n",
       "      <td>0.00</td>\n",
       "      <td>0.00</td>\n",
       "      <td>0.00</td>\n",
       "      <td>0.00</td>\n",
       "      <td>0.00</td>\n",
       "    </tr>\n",
       "    <tr>\n",
       "      <th>1030</th>\n",
       "      <td>Radial G Racing Revolved</td>\n",
       "      <td>2017.0</td>\n",
       "      <td>Racing</td>\n",
       "      <td>Tammeka Games</td>\n",
       "      <td>0.00</td>\n",
       "      <td>0.00</td>\n",
       "      <td>0.00</td>\n",
       "      <td>0.00</td>\n",
       "      <td>0.00</td>\n",
       "    </tr>\n",
       "  </tbody>\n",
       "</table>\n",
       "<p>805 rows × 9 columns</p>\n",
       "</div>"
      ],
      "text/plain": [
       "                           Game    Year             Genre  \\\n",
       "0            Grand Theft Auto V  2014.0            Action   \n",
       "1     Call of Duty: Black Ops 3  2015.0           Shooter   \n",
       "2         Red Dead Redemption 2  2018.0  Action-Adventure   \n",
       "3            Call of Duty: WWII  2017.0           Shooter   \n",
       "4                       FIFA 18  2017.0            Sports   \n",
       "...                         ...     ...               ...   \n",
       "1024                  Biomutant  2018.0            Action   \n",
       "1026                    de Blob  2017.0          Platform   \n",
       "1027           Chaos on Deponia  2017.0         Adventure   \n",
       "1028                  Code Vein  2018.0            Action   \n",
       "1030   Radial G Racing Revolved  2017.0            Racing   \n",
       "\n",
       "                       Publisher  North America  Europe  Japan  Rest of World  \\\n",
       "0                 Rockstar Games           6.06    9.71   0.60           3.02   \n",
       "1                     Activision           6.18    6.05   0.41           2.44   \n",
       "2                 Rockstar Games           5.26    6.21   0.21           2.26   \n",
       "3                     Activision           4.67    6.21   0.40           2.12   \n",
       "4                      EA Sports           1.27    8.64   0.15           1.73   \n",
       "...                          ...            ...     ...    ...            ...   \n",
       "1024                  THQ Nordic           0.00    0.00   0.00           0.00   \n",
       "1026                  THQ Nordic           0.00    0.00   0.00           0.00   \n",
       "1027      Daedalic Entertainment           0.00    0.00   0.00           0.00   \n",
       "1028  Bandai Namco Entertainment           0.00    0.00   0.00           0.00   \n",
       "1030               Tammeka Games           0.00    0.00   0.00           0.00   \n",
       "\n",
       "      Global  \n",
       "0      19.39  \n",
       "1      15.09  \n",
       "2      13.94  \n",
       "3      13.40  \n",
       "4      11.80  \n",
       "...      ...  \n",
       "1024    0.00  \n",
       "1026    0.00  \n",
       "1027    0.00  \n",
       "1028    0.00  \n",
       "1030    0.00  \n",
       "\n",
       "[805 rows x 9 columns]"
      ]
     },
     "execution_count": 115,
     "metadata": {},
     "output_type": "execute_result"
    }
   ],
   "source": [
    "dados = dados.loc[(dados['Year'] != 2019) & (dados['Year']!= 2020)]\n",
    "dados"
   ]
  },
  {
   "cell_type": "code",
   "execution_count": 116,
   "id": "23057715",
   "metadata": {
    "scrolled": true
   },
   "outputs": [
    {
     "data": {
      "text/html": [
       "<div>\n",
       "<style scoped>\n",
       "    .dataframe tbody tr th:only-of-type {\n",
       "        vertical-align: middle;\n",
       "    }\n",
       "\n",
       "    .dataframe tbody tr th {\n",
       "        vertical-align: top;\n",
       "    }\n",
       "\n",
       "    .dataframe thead th {\n",
       "        text-align: right;\n",
       "    }\n",
       "</style>\n",
       "<table border=\"1\" class=\"dataframe\">\n",
       "  <thead>\n",
       "    <tr style=\"text-align: right;\">\n",
       "      <th></th>\n",
       "      <th>North America</th>\n",
       "      <th>Europe</th>\n",
       "      <th>Japan</th>\n",
       "      <th>Rest of World</th>\n",
       "      <th>Global</th>\n",
       "    </tr>\n",
       "    <tr>\n",
       "      <th>Year</th>\n",
       "      <th></th>\n",
       "      <th></th>\n",
       "      <th></th>\n",
       "      <th></th>\n",
       "      <th></th>\n",
       "    </tr>\n",
       "  </thead>\n",
       "  <tbody>\n",
       "    <tr>\n",
       "      <th>2013.0</th>\n",
       "      <td>10.35</td>\n",
       "      <td>12.88</td>\n",
       "      <td>0.97</td>\n",
       "      <td>4.57</td>\n",
       "      <td>28.76</td>\n",
       "    </tr>\n",
       "    <tr>\n",
       "      <th>2014.0</th>\n",
       "      <td>39.80</td>\n",
       "      <td>54.12</td>\n",
       "      <td>3.58</td>\n",
       "      <td>18.29</td>\n",
       "      <td>115.85</td>\n",
       "    </tr>\n",
       "    <tr>\n",
       "      <th>2015.0</th>\n",
       "      <td>49.60</td>\n",
       "      <td>56.21</td>\n",
       "      <td>7.28</td>\n",
       "      <td>20.88</td>\n",
       "      <td>133.99</td>\n",
       "    </tr>\n",
       "    <tr>\n",
       "      <th>2016.0</th>\n",
       "      <td>47.40</td>\n",
       "      <td>57.98</td>\n",
       "      <td>9.65</td>\n",
       "      <td>20.71</td>\n",
       "      <td>135.72</td>\n",
       "    </tr>\n",
       "    <tr>\n",
       "      <th>2017.0</th>\n",
       "      <td>44.77</td>\n",
       "      <td>57.18</td>\n",
       "      <td>9.08</td>\n",
       "      <td>19.89</td>\n",
       "      <td>130.90</td>\n",
       "    </tr>\n",
       "    <tr>\n",
       "      <th>2018.0</th>\n",
       "      <td>19.65</td>\n",
       "      <td>18.70</td>\n",
       "      <td>4.13</td>\n",
       "      <td>7.69</td>\n",
       "      <td>50.20</td>\n",
       "    </tr>\n",
       "  </tbody>\n",
       "</table>\n",
       "</div>"
      ],
      "text/plain": [
       "        North America  Europe  Japan  Rest of World  Global\n",
       "Year                                                       \n",
       "2013.0          10.35   12.88   0.97           4.57   28.76\n",
       "2014.0          39.80   54.12   3.58          18.29  115.85\n",
       "2015.0          49.60   56.21   7.28          20.88  133.99\n",
       "2016.0          47.40   57.98   9.65          20.71  135.72\n",
       "2017.0          44.77   57.18   9.08          19.89  130.90\n",
       "2018.0          19.65   18.70   4.13           7.69   50.20"
      ]
     },
     "execution_count": 116,
     "metadata": {},
     "output_type": "execute_result"
    }
   ],
   "source": [
    "dados.groupby(by='Year').sum()"
   ]
  },
  {
   "cell_type": "code",
   "execution_count": 117,
   "id": "4a081140",
   "metadata": {},
   "outputs": [
    {
     "data": {
      "image/png": "[encoded data removed]",
      "text/plain": [
       "<Figure size 432x288 with 1 Axes>"
      ]
     },
     "metadata": {
      "needs_background": "light"
     },
     "output_type": "display_data"
    }
   ],
   "source": [
    "plt.title('Análise das vendas Globais (mi)')\n",
    "sns.boxplot(x='Year', y='Global', data = dados);\n",
    "plt.ylabel('Vendas Globais');\n",
    "plt.xlabel('Ano');"
   ]
  },
  {
   "cell_type": "code",
   "execution_count": 118,
   "id": "ca1c9568",
   "metadata": {},
   "outputs": [
    {
     "data": {
      "text/html": [
       "<div>\n",
       "<style scoped>\n",
       "    .dataframe tbody tr th:only-of-type {\n",
       "        vertical-align: middle;\n",
       "    }\n",
       "\n",
       "    .dataframe tbody tr th {\n",
       "        vertical-align: top;\n",
       "    }\n",
       "\n",
       "    .dataframe thead th {\n",
       "        text-align: right;\n",
       "    }\n",
       "</style>\n",
       "<table border=\"1\" class=\"dataframe\">\n",
       "  <thead>\n",
       "    <tr style=\"text-align: right;\">\n",
       "      <th></th>\n",
       "      <th>Game</th>\n",
       "      <th>Year</th>\n",
       "      <th>Genre</th>\n",
       "      <th>Publisher</th>\n",
       "      <th>North America</th>\n",
       "      <th>Europe</th>\n",
       "      <th>Japan</th>\n",
       "      <th>Rest of World</th>\n",
       "      <th>Global</th>\n",
       "    </tr>\n",
       "  </thead>\n",
       "  <tbody>\n",
       "    <tr>\n",
       "      <th>0</th>\n",
       "      <td>Grand Theft Auto V</td>\n",
       "      <td>2014.0</td>\n",
       "      <td>Action</td>\n",
       "      <td>Rockstar Games</td>\n",
       "      <td>6.06</td>\n",
       "      <td>9.71</td>\n",
       "      <td>0.60</td>\n",
       "      <td>3.02</td>\n",
       "      <td>19.39</td>\n",
       "    </tr>\n",
       "    <tr>\n",
       "      <th>1</th>\n",
       "      <td>Call of Duty: Black Ops 3</td>\n",
       "      <td>2015.0</td>\n",
       "      <td>Shooter</td>\n",
       "      <td>Activision</td>\n",
       "      <td>6.18</td>\n",
       "      <td>6.05</td>\n",
       "      <td>0.41</td>\n",
       "      <td>2.44</td>\n",
       "      <td>15.09</td>\n",
       "    </tr>\n",
       "    <tr>\n",
       "      <th>2</th>\n",
       "      <td>Red Dead Redemption 2</td>\n",
       "      <td>2018.0</td>\n",
       "      <td>Action-Adventure</td>\n",
       "      <td>Rockstar Games</td>\n",
       "      <td>5.26</td>\n",
       "      <td>6.21</td>\n",
       "      <td>0.21</td>\n",
       "      <td>2.26</td>\n",
       "      <td>13.94</td>\n",
       "    </tr>\n",
       "    <tr>\n",
       "      <th>3</th>\n",
       "      <td>Call of Duty: WWII</td>\n",
       "      <td>2017.0</td>\n",
       "      <td>Shooter</td>\n",
       "      <td>Activision</td>\n",
       "      <td>4.67</td>\n",
       "      <td>6.21</td>\n",
       "      <td>0.40</td>\n",
       "      <td>2.12</td>\n",
       "      <td>13.40</td>\n",
       "    </tr>\n",
       "    <tr>\n",
       "      <th>4</th>\n",
       "      <td>FIFA 18</td>\n",
       "      <td>2017.0</td>\n",
       "      <td>Sports</td>\n",
       "      <td>EA Sports</td>\n",
       "      <td>1.27</td>\n",
       "      <td>8.64</td>\n",
       "      <td>0.15</td>\n",
       "      <td>1.73</td>\n",
       "      <td>11.80</td>\n",
       "    </tr>\n",
       "    <tr>\n",
       "      <th>5</th>\n",
       "      <td>FIFA 17</td>\n",
       "      <td>2016.0</td>\n",
       "      <td>Sports</td>\n",
       "      <td>Electronic Arts</td>\n",
       "      <td>1.26</td>\n",
       "      <td>7.95</td>\n",
       "      <td>0.12</td>\n",
       "      <td>1.61</td>\n",
       "      <td>10.94</td>\n",
       "    </tr>\n",
       "    <tr>\n",
       "      <th>6</th>\n",
       "      <td>Uncharted (PS4)</td>\n",
       "      <td>2016.0</td>\n",
       "      <td>Action</td>\n",
       "      <td>Sony Interactive Entertainment</td>\n",
       "      <td>4.49</td>\n",
       "      <td>3.93</td>\n",
       "      <td>0.21</td>\n",
       "      <td>1.70</td>\n",
       "      <td>10.33</td>\n",
       "    </tr>\n",
       "  </tbody>\n",
       "</table>\n",
       "</div>"
      ],
      "text/plain": [
       "                        Game    Year             Genre  \\\n",
       "0         Grand Theft Auto V  2014.0            Action   \n",
       "1  Call of Duty: Black Ops 3  2015.0           Shooter   \n",
       "2      Red Dead Redemption 2  2018.0  Action-Adventure   \n",
       "3         Call of Duty: WWII  2017.0           Shooter   \n",
       "4                    FIFA 18  2017.0            Sports   \n",
       "5                    FIFA 17  2016.0            Sports   \n",
       "6            Uncharted (PS4)  2016.0            Action   \n",
       "\n",
       "                        Publisher  North America  Europe  Japan  \\\n",
       "0                  Rockstar Games           6.06    9.71   0.60   \n",
       "1                      Activision           6.18    6.05   0.41   \n",
       "2                  Rockstar Games           5.26    6.21   0.21   \n",
       "3                      Activision           4.67    6.21   0.40   \n",
       "4                       EA Sports           1.27    8.64   0.15   \n",
       "5                 Electronic Arts           1.26    7.95   0.12   \n",
       "6  Sony Interactive Entertainment           4.49    3.93   0.21   \n",
       "\n",
       "   Rest of World  Global  \n",
       "0           3.02   19.39  \n",
       "1           2.44   15.09  \n",
       "2           2.26   13.94  \n",
       "3           2.12   13.40  \n",
       "4           1.73   11.80  \n",
       "5           1.61   10.94  \n",
       "6           1.70   10.33  "
      ]
     },
     "execution_count": 118,
     "metadata": {},
     "output_type": "execute_result"
    }
   ],
   "source": [
    "dados.loc[dados['Global']>= 10]"
   ]
  },
  {
   "cell_type": "markdown",
   "id": "99fb2808",
   "metadata": {},
   "source": [
    "Nesta tabela estão agrupados os dados onde as vendas globais somam igual ou maior que 10 milhões."
   ]
  },
  {
   "cell_type": "code",
   "execution_count": 119,
   "id": "9b3db51d",
   "metadata": {},
   "outputs": [],
   "source": [
    "dados_publisher = dados.groupby(['Publisher']).sum().sort_values(['Global'], ascending=False)['Global'].reset_index()"
   ]
  },
  {
   "cell_type": "code",
   "execution_count": 120,
   "id": "9e3f0932",
   "metadata": {},
   "outputs": [
    {
     "data": {
      "text/html": [
       "<div>\n",
       "<style scoped>\n",
       "    .dataframe tbody tr th:only-of-type {\n",
       "        vertical-align: middle;\n",
       "    }\n",
       "\n",
       "    .dataframe tbody tr th {\n",
       "        vertical-align: top;\n",
       "    }\n",
       "\n",
       "    .dataframe thead th {\n",
       "        text-align: right;\n",
       "    }\n",
       "</style>\n",
       "<table border=\"1\" class=\"dataframe\">\n",
       "  <thead>\n",
       "    <tr style=\"text-align: right;\">\n",
       "      <th></th>\n",
       "      <th>Publisher</th>\n",
       "      <th>Global</th>\n",
       "    </tr>\n",
       "  </thead>\n",
       "  <tbody>\n",
       "    <tr>\n",
       "      <th>0</th>\n",
       "      <td>Activision</td>\n",
       "      <td>72.44</td>\n",
       "    </tr>\n",
       "    <tr>\n",
       "      <th>1</th>\n",
       "      <td>Ubisoft</td>\n",
       "      <td>59.16</td>\n",
       "    </tr>\n",
       "    <tr>\n",
       "      <th>2</th>\n",
       "      <td>Electronic Arts</td>\n",
       "      <td>54.96</td>\n",
       "    </tr>\n",
       "    <tr>\n",
       "      <th>3</th>\n",
       "      <td>Sony Interactive Entertainment</td>\n",
       "      <td>54.85</td>\n",
       "    </tr>\n",
       "    <tr>\n",
       "      <th>4</th>\n",
       "      <td>EA Sports</td>\n",
       "      <td>47.55</td>\n",
       "    </tr>\n",
       "    <tr>\n",
       "      <th>5</th>\n",
       "      <td>Sony Computer Entertainment</td>\n",
       "      <td>42.26</td>\n",
       "    </tr>\n",
       "    <tr>\n",
       "      <th>6</th>\n",
       "      <td>Rockstar Games</td>\n",
       "      <td>33.93</td>\n",
       "    </tr>\n",
       "    <tr>\n",
       "      <th>7</th>\n",
       "      <td>Square Enix</td>\n",
       "      <td>29.92</td>\n",
       "    </tr>\n",
       "    <tr>\n",
       "      <th>8</th>\n",
       "      <td>Bethesda Softworks</td>\n",
       "      <td>28.96</td>\n",
       "    </tr>\n",
       "    <tr>\n",
       "      <th>9</th>\n",
       "      <td>Warner Bros. Interactive Entertainment</td>\n",
       "      <td>27.83</td>\n",
       "    </tr>\n",
       "  </tbody>\n",
       "</table>\n",
       "</div>"
      ],
      "text/plain": [
       "                                Publisher  Global\n",
       "0                              Activision   72.44\n",
       "1                                 Ubisoft   59.16\n",
       "2                         Electronic Arts   54.96\n",
       "3          Sony Interactive Entertainment   54.85\n",
       "4                               EA Sports   47.55\n",
       "5             Sony Computer Entertainment   42.26\n",
       "6                          Rockstar Games   33.93\n",
       "7                             Square Enix   29.92\n",
       "8                      Bethesda Softworks   28.96\n",
       "9  Warner Bros. Interactive Entertainment   27.83"
      ]
     },
     "execution_count": 120,
     "metadata": {},
     "output_type": "execute_result"
    }
   ],
   "source": [
    "dados_publisher.head(10)"
   ]
  },
  {
   "cell_type": "markdown",
   "id": "93b079b7",
   "metadata": {},
   "source": [
    "As 10 empresas desenvolvedoras com maior faturamento global em milhões"
   ]
  },
  {
   "cell_type": "code",
   "execution_count": 121,
   "id": "793e37a3",
   "metadata": {},
   "outputs": [
    {
     "data": {
      "image/png": "[encoded data removed]",
      "text/plain": [
       "<Figure size 720x360 with 1 Axes>"
      ]
     },
     "metadata": {
      "needs_background": "light"
     },
     "output_type": "display_data"
    }
   ],
   "source": [
    "plt.figure( figsize=(10, 5) )\n",
    "plt.title('Top 10 Produtores na industria de Games global', loc='center', fontsize=14 )\n",
    "sns.barplot( data=dados_publisher.head(10), x='Publisher', y='Global')\n",
    "plt.xticks( rotation=45, ha='right');\n",
    "plt.ylabel('Faturamento (mi)');\n",
    "plt.xlabel('Produtores');"
   ]
  },
  {
   "cell_type": "markdown",
   "id": "653e0be3",
   "metadata": {},
   "source": [
    "**Análise por Continente**"
   ]
  },
  {
   "cell_type": "code",
   "execution_count": 122,
   "id": "5c2658e2",
   "metadata": {},
   "outputs": [
    {
     "data": {
      "text/plain": [
       "([35.9874826147427,\n",
       "  34.35476909797151,\n",
       "  37.01768788715576,\n",
       "  34.92484526967286,\n",
       "  34.20168067226891,\n",
       "  39.14342629482071],\n",
       " [44.78442280945759,\n",
       "  46.71558049201555,\n",
       "  41.95089185760131,\n",
       "  42.72030651340996,\n",
       "  43.68220015278838,\n",
       "  37.25099601593625],\n",
       " [3.372739916550765,\n",
       "  3.0902028485110056,\n",
       "  5.433241286663184,\n",
       "  7.110226937813145,\n",
       "  6.936592818945759,\n",
       "  8.227091633466136],\n",
       " [15.890125173852576,\n",
       "  15.78765645230902,\n",
       "  15.58325248152847,\n",
       "  15.259357500736812,\n",
       "  15.194805194805195,\n",
       "  15.31872509960159])"
      ]
     },
     "execution_count": 122,
     "metadata": {},
     "output_type": "execute_result"
    }
   ],
   "source": [
    "dados_cont = dados.groupby(by=['Year']).sum().reset_index()\n",
    "\n",
    "America = [America/Total*100 for America, Total in zip(dados_cont['North America'], dados_cont['Global'])]\n",
    "Europa = [Europa/Total*100 for Europa, Total in zip(dados_cont['Europe'], dados_cont['Global'])]\n",
    "Japão = [Japão/Total*100 for Japão, Total in zip(dados_cont['Japan'], dados_cont['Global'])]\n",
    "Mundo = [Mundo/Total*100 for Mundo, Total in zip(dados_cont['Rest of World'], dados_cont['Global'])]\n",
    "\n",
    "America, Europa, Japão, Mundo\n"
   ]
  },
  {
   "cell_type": "code",
   "execution_count": 123,
   "id": "52396573",
   "metadata": {},
   "outputs": [
    {
     "data": {
      "image/png": "[encoded data removed]",
      "text/plain": [
       "<Figure size 720x360 with 1 Axes>"
      ]
     },
     "metadata": {
      "needs_background": "light"
     },
     "output_type": "display_data"
    }
   ],
   "source": [
    "plt.figure( figsize=(10, 5) )\n",
    "\n",
    "Largura_Barra = 0.85\n",
    "Rotulos = dados_cont['Year']\n",
    "Grupos = [0, 1, 2, 3, 4, 5]\n",
    "\n",
    "\n",
    "plt.title('Análise distribuição por continentes')\n",
    "\n",
    "plt.bar( Grupos, America, width=Largura_Barra, color='#addd8e', edgecolor='white' )\n",
    "\n",
    "\n",
    "plt.bar( Grupos, Europa, bottom=America, width=Largura_Barra, color='#a6bddb', edgecolor='white' )\n",
    "\n",
    "\n",
    "plt.bar( Grupos, Japão, bottom=[ A + B for A, B in zip(America, Europa) ], width=Largura_Barra, color='#e6550d', edgecolor='white' )\n",
    "\n",
    "\n",
    "plt.bar( Grupos, Mundo, bottom=[ A + B + C for A, B, C in zip(America, Europa, Japão) ], width=Largura_Barra, color='#fff7bc', edgecolor='white' )\n",
    "\n",
    "# Labels\n",
    "plt.xticks( Grupos, Rotulos )\n",
    "plt.xlabel('Grupo')\n",
    "plt.ylabel('Distribuição %')\n",
    "\n",
    "# Legenda\n",
    "plt.legend( ['America N', 'Europa',' Japão', 'Mundo'], loc='upper left', bbox_to_anchor=(0.15, -0.1), ncol=4 );"
   ]
  },
  {
   "cell_type": "markdown",
   "id": "65f58465",
   "metadata": {},
   "source": [
    "**Plotagem de todos os gráficos**\n"
   ]
  },
  {
   "cell_type": "code",
   "execution_count": 138,
   "id": "c2414bc4",
   "metadata": {},
   "outputs": [
    {
     "data": {
      "image/png": "[encoded data removed]",
      "text/plain": [
       "<Figure size 1296x1080 with 4 Axes>"
      ]
     },
     "metadata": {},
     "output_type": "display_data"
    }
   ],
   "source": [
    "fig, ax = plt.subplots( figsize=(18, 15) )\n",
    "\n",
    "Cor_Fundo = '#f0f0f0'\n",
    "ax.set_facecolor( Cor_Fundo )\n",
    "fig.set_facecolor( Cor_Fundo )\n",
    "\n",
    "plt.style.use('seaborn')\n",
    "plt.suptitle('Análise Completa do Mercado de Games PS4', fontsize=22, color='#dd1c77', fontweight=600 )\n",
    "\n",
    "Linhas = 3\n",
    "Colunas = 2\n",
    "\n",
    "#Gráfico 1\n",
    "plt.subplot( Linhas, Colunas, 1)\n",
    "plt.title('Quantidade de Vendas Globais (mi) por Ano', loc='center', fontsize=14 )\n",
    "sns.barplot( data=dados, x='Year', y='Global', ci=None, color='#c994c7', estimator=sum )\n",
    "plt.ylabel('Quantidade Vendas (mi)');\n",
    "plt.xlabel('Ano');\n",
    "\n",
    "#Gráfico 2\n",
    "plt.subplot( Linhas, Colunas, 2)\n",
    "Largura_Barra = 0.85\n",
    "Rotulos = dados_cont['Year']\n",
    "Grupos = [0, 1, 2, 3, 4, 5]\n",
    "\n",
    "\n",
    "plt.title('Análise distribuição por continentes', fontsize=14)\n",
    "\n",
    "plt.bar( Grupos, America, width=Largura_Barra, color='#addd8e', edgecolor='white' )\n",
    "\n",
    "\n",
    "plt.bar( Grupos, Europa, bottom=America, width=Largura_Barra, color='#a6bddb', edgecolor='white' )\n",
    "\n",
    "\n",
    "plt.bar( Grupos, Japão, bottom=[ A + B for A, B in zip(America, Europa) ], width=Largura_Barra, color='#e6550d', edgecolor='white' )\n",
    "\n",
    "\n",
    "plt.bar( Grupos, Mundo, bottom=[ A + B + C for A, B, C in zip(America, Europa, Japão) ], width=Largura_Barra, color='#fff7bc', edgecolor='white' )\n",
    "\n",
    "# Labels\n",
    "plt.xticks( Grupos, Rotulos )\n",
    "plt.xlabel('Grupo')\n",
    "plt.ylabel('Distribuição %')\n",
    "\n",
    "# Legenda\n",
    "plt.legend( ['America N', 'Europa',' Japão', 'Mundo'], loc='upper left', bbox_to_anchor=(0.15, -0.1), ncol=4 );\n",
    "\n",
    "\n",
    "#Gráfico 3\n",
    "plt.subplot( Linhas, Colunas, 3)\n",
    "plt.title('Top 10 Produtores na industria de Games global', loc='center', fontsize=14 )\n",
    "sns.barplot( data=dados_publisher.head(10), x='Publisher', y='Global')\n",
    "plt.xticks( rotation=45, ha='right');\n",
    "plt.ylabel('Faturamento (mi)');\n",
    "plt.xlabel('Produtores'); \n",
    "\n",
    "#Gráfico 4\n",
    "plt.subplot( Linhas, Colunas, 4)\n",
    "plt.title(\"Quantidade de jogos por Gênero\", fontsize=14)\n",
    "plt.bar(dados_genre.index,dados_genre, color = '#a1d99b');\n",
    "plt.xticks(rotation = 45, ha ='right');\n",
    "\n",
    "#Ajustar os espaçamentos das figuras\n",
    "plt.subplots_adjust( hspace=0.35, wspace=0.15 )\n",
    "\n",
    "Rodape = '''\n",
    "Essse relatório foi elaborado por Maria Clara Ribeiro\n",
    "Está dispónivel no github: https://github.com/mclararibeiro/Portfolio-data-analytics.git\n",
    "'''\n",
    "\n",
    "# Incluindo o rodape no relatorio\n",
    "fig.text( 0.5, -0.02, Rodape, ha='center', va='bottom', size=12, color='#938ca1');\n",
    "\n"
   ]
  },
  {
   "cell_type": "code",
   "execution_count": null,
   "id": "42d28cb2",
   "metadata": {},
   "outputs": [],
   "source": []
  }
 ],
 "metadata": {
  "kernelspec": {
   "display_name": "Python 3 (ipykernel)",
   "language": "python",
   "name": "python3"
  },
  "language_info": {
   "codemirror_mode": {
    "name": "ipython",
    "version": 3
   },
   "file_extension": ".py",
   "mimetype": "text/x-python",
   "name": "python",
   "nbconvert_exporter": "python",
   "pygments_lexer": "ipython3",
   "version": "3.9.7"
  }
 },
 "nbformat": 4,
 "nbformat_minor": 5
}
